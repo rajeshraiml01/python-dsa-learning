{
 "cells": [
  {
   "cell_type": "code",
   "execution_count": 12,
   "id": "d2d43d60",
   "metadata": {},
   "outputs": [],
   "source": [
    "a = []"
   ]
  },
  {
   "cell_type": "code",
   "execution_count": 13,
   "id": "4e8ad0ae",
   "metadata": {},
   "outputs": [],
   "source": [
    "### Stack Implementation\n",
    "\n",
    "class Stack:\n",
    "    def __init__(self):\n",
    "        self.items = []\n",
    "    \n",
    "    def push(self, item):\n",
    "        self.items.append(item)\n",
    "\n",
    "    def pop(self):\n",
    "        return self.items.pop()\n",
    "\n",
    "    def is_empty(self):\n",
    "        return len(self.items) == 0\n",
    "    \n",
    "    def peek(self):\n",
    "        if not self.is_empty():\n",
    "            return self.items[-1]\n",
    "        return None\n",
    "\n",
    "    def get_stack(self):\n",
    "        return self.items\n",
    "\n"
   ]
  },
  {
   "cell_type": "code",
   "execution_count": 14,
   "id": "146d5a2a",
   "metadata": {},
   "outputs": [],
   "source": [
    "my_stack = Stack()"
   ]
  },
  {
   "cell_type": "code",
   "execution_count": 15,
   "id": "0f4a0533",
   "metadata": {},
   "outputs": [],
   "source": [
    "my_stack.push(1)\n",
    "my_stack.push(2)\n",
    "my_stack.push(3)"
   ]
  },
  {
   "cell_type": "code",
   "execution_count": 16,
   "id": "e887f7d3",
   "metadata": {},
   "outputs": [
    {
     "data": {
      "text/plain": [
       "[1, 2, 3]"
      ]
     },
     "execution_count": 16,
     "metadata": {},
     "output_type": "execute_result"
    }
   ],
   "source": [
    "my_stack.get_stack()"
   ]
  },
  {
   "cell_type": "code",
   "execution_count": 17,
   "id": "d6222091",
   "metadata": {},
   "outputs": [
    {
     "data": {
      "text/plain": [
       "3"
      ]
     },
     "execution_count": 17,
     "metadata": {},
     "output_type": "execute_result"
    }
   ],
   "source": [
    "my_stack.pop()"
   ]
  },
  {
   "cell_type": "code",
   "execution_count": 18,
   "id": "879ea43e",
   "metadata": {},
   "outputs": [],
   "source": [
    "my_stack.push(\"A\")\n",
    "my_stack.push(\"B\")\n",
    "my_stack.push(\"C\")"
   ]
  },
  {
   "cell_type": "code",
   "execution_count": 19,
   "id": "05b2c464",
   "metadata": {},
   "outputs": [
    {
     "data": {
      "text/plain": [
       "[1, 2, 'A', 'B', 'C']"
      ]
     },
     "execution_count": 19,
     "metadata": {},
     "output_type": "execute_result"
    }
   ],
   "source": [
    "my_stack.get_stack()"
   ]
  },
  {
   "cell_type": "code",
   "execution_count": 20,
   "id": "8021e51e",
   "metadata": {},
   "outputs": [
    {
     "data": {
      "text/plain": [
       "'C'"
      ]
     },
     "execution_count": 20,
     "metadata": {},
     "output_type": "execute_result"
    }
   ],
   "source": [
    "my_stack.peek()"
   ]
  },
  {
   "cell_type": "code",
   "execution_count": null,
   "id": "4866d623",
   "metadata": {},
   "outputs": [],
   "source": [
    "def is_balanced_brackets(brackets_str):\n",
    "    s = Stack()\n",
    "    is_balanced=True\n",
    "    index = 0 \n",
    "    while index < len(brackets_str) and is_balanced:\n",
    "        "
   ]
  }
 ],
 "metadata": {
  "kernelspec": {
   "display_name": ".venv",
   "language": "python",
   "name": "python3"
  },
  "language_info": {
   "codemirror_mode": {
    "name": "ipython",
    "version": 3
   },
   "file_extension": ".py",
   "mimetype": "text/x-python",
   "name": "python",
   "nbconvert_exporter": "python",
   "pygments_lexer": "ipython3",
   "version": "3.12.10"
  }
 },
 "nbformat": 4,
 "nbformat_minor": 5
}
